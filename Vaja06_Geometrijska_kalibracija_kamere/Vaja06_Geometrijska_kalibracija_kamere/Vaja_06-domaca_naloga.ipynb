{
 "cells": [
  {
   "cell_type": "markdown",
   "metadata": {},
   "source": [
    "Before you turn this problem in, make sure everything runs as expected. First, **restart the kernel** (in the menubar, select Kernel$\\rightarrow$Restart) and then **run all cells** (in the menubar, select Cell$\\rightarrow$Run All).\n",
    "\n",
    "Make sure you fill in any place that says `YOUR CODE HERE` or \"YOUR ANSWER HERE\", as well as your name and collaborators below:"
   ]
  },
  {
   "cell_type": "code",
   "execution_count": null,
   "metadata": {},
   "outputs": [],
   "source": [
    "NAME = \"\"\n",
    "COLLABORATORS = \"\""
   ]
  },
  {
   "cell_type": "markdown",
   "metadata": {},
   "source": [
    "---"
   ]
  },
  {
   "cell_type": "markdown",
   "metadata": {
    "deletable": false,
    "editable": false,
    "nbgrader": {
     "checksum": "fa92d4f0388df72564fc922758e130be",
     "grade": false,
     "grade_id": "cell-1d93ac81b1ad6428",
     "locked": true,
     "schema_version": 1,
     "solution": false
    }
   },
   "source": [
    "# Domača naloga 6: Geometrijska kalibracija kamere"
   ]
  },
  {
   "cell_type": "markdown",
   "metadata": {
    "deletable": false,
    "editable": false,
    "nbgrader": {
     "checksum": "789882f7f2d65a0e2f3189ec1d377e9e",
     "grade": false,
     "grade_id": "cell-8cad3a9400118211",
     "locked": true,
     "schema_version": 1,
     "solution": false
    }
   },
   "source": [
    "1. Napišite funkcijo, ki za dane optimalne parametre geometrijske kalibracije `iPar` normalizira zajeto sliko `iImage` v metrični prostor:\n",
    "```python\n",
    "    def geomCalibImage( iPar, iImage, iCoorX, iCoorY ):\n",
    "        return oImage\n",
    "```\n",
    "kjer spremenljivki `iCoorX` in `iCoorY` predstavljata koordinate točk $(x,y)$ **v metričnem prostoru**, ki jih je potrebno preslikati v prostor slike in določiti pripadajoče sivinske vrednosti. Funkcija vrne kalibrirano sliko `oImage`, katere dimenzije so podane glede na dimenzije vzorčnih točk $(x,y)$.\n",
    "\n",
    " Preverite delovanje funkcije tako, da vzorčne točke $(x,y)$ preslikate z optimalnimi parametri projektivne preslikave in modela radialnih distorzij. Predpostavite, da ima stranica kvadratnega polja kalibracijskega objekta dolžino 20 mm in ustvarite točke $(x,y)$ tako, da bo na izhodni kalibrirani sliki `oImage` velikost slikovnih elementov enaka $1/5\\,$ mm. Izvedite geometrijsko kalibracijo slike `data/calibration-object.jpg` tako, da s funkcijo za interpolacijo prvega reda `scipy.interpolate.interpn()` v preslikanih točkah poiščete nove sivinske vrednosti. Prikažite preslikano sliko, v kateri morajo biti vzorci v kalibru poravnani z osmi slike."
   ]
  },
  {
   "cell_type": "markdown",
   "metadata": {
    "deletable": false,
    "editable": false,
    "nbgrader": {
     "checksum": "0f87102045abf9128a0b81bd7d958d06",
     "grade": false,
     "grade_id": "cell-67dc9c4b11691b2e",
     "locked": true,
     "schema_version": 1,
     "solution": false
    }
   },
   "source": [
    "Naložite module in prilepite zahtevane funkcije iz vaj:"
   ]
  },
  {
   "cell_type": "code",
   "execution_count": null,
   "metadata": {
    "deletable": false,
    "nbgrader": {
     "checksum": "b3a40d0384036a3674d07187668c39c5",
     "grade": true,
     "grade_id": "cell-134fbbf5e550f42e",
     "locked": false,
     "points": 1,
     "schema_version": 1,
     "solution": true
    }
   },
   "outputs": [],
   "source": []
  },
  {
   "cell_type": "markdown",
   "metadata": {
    "deletable": false,
    "editable": false,
    "nbgrader": {
     "checksum": "c37a83e3fd55a15b578649b8bc1e3f31",
     "grade": false,
     "grade_id": "cell-27b4a6374428e9c4",
     "locked": true,
     "schema_version": 1,
     "solution": false
    }
   },
   "source": [
    "Implementirajte funkcijo `geomCalibImage`:"
   ]
  },
  {
   "cell_type": "code",
   "execution_count": null,
   "metadata": {
    "deletable": false,
    "nbgrader": {
     "checksum": "fa7ed3a6fe5629b562e62096ed36e0c1",
     "grade": true,
     "grade_id": "cell-4b7170f025132a49",
     "locked": false,
     "points": 3,
     "schema_version": 1,
     "solution": true
    }
   },
   "outputs": [],
   "source": [
    "def geomCalibImage( iPar, iImage, iCoorX, iCoorY ):\n",
    "    \"\"\"Funkcija za normalizacijo slike po geometrijski kalibraciji\"\"\"\n",
    "    # YOUR CODE HERE\n",
    "    raise NotImplementedError()\n",
    "    return oImage"
   ]
  },
  {
   "cell_type": "markdown",
   "metadata": {},
   "source": [
    " Preverite delovanje funkcije tako, da vzorčne točke $(x,y)$ preslikate z optimalnimi parametri projektivne preslikave in modela radialnih distorzij. Predpostavite, da ima stranica kvadratnega polja kalibracijskega objekta dolžino 20 mm in ustvarite točke $(x,y)$ tako, da bo na izhodni kalibrirani sliki `oImage` velikost slikovnih elementov enaka $1/5\\,$ mm. Izvedite geometrijsko kalibracijo slike `data/calibration-object.jpg` tako, da s funkcijo za interpolacijo prvega reda `scipy.interpolate.interpn()` v preslikanih točkah poiščete nove sivinske vrednosti. Prikažite preslikano sliko, v kateri morajo biti vzorci v kalibru poravnani z osmi slike."
   ]
  },
  {
   "cell_type": "code",
   "execution_count": null,
   "metadata": {
    "deletable": false,
    "nbgrader": {
     "checksum": "095d03a6674d6c40de8ba2b2152f95fa",
     "grade": true,
     "grade_id": "cell-a2d31cb036c94c7b",
     "locked": false,
     "points": 2,
     "schema_version": 1,
     "solution": true
    }
   },
   "outputs": [],
   "source": [
    "# Primer parametrov\n",
    "iCalImage = loadImage('data/calibration-object.jpg')\n",
    "iPar = [4.452, -0.349, 34.207, -0.709,\n",
    "        3.352, 211.927, 2.459e-04, -1.348e-03,\n",
    "        1963.270, 1478.125, 1.101e-03]\n",
    "# YOUR CODE HERE\n",
    "raise NotImplementedError()"
   ]
  },
  {
   "cell_type": "markdown",
   "metadata": {
    "deletable": false,
    "editable": false,
    "nbgrader": {
     "checksum": "f81e8833dd34f5cdc916585217bd0b65",
     "grade": false,
     "grade_id": "cell-bf91de759bcf3a03",
     "locked": true,
     "schema_version": 1,
     "solution": false
    }
   },
   "source": [
    "2. Barvno sliko objekta `data/test-object.jpg`, ki je bila zajeta z istim slikovnim sistemom kot slika kalibra, kalibrirajte z referenčno geometrijsko kalibracijo tako, da bo velikost slikovnega elementa enaka $1/3\\,$ mm. Prikažite kalibrirano barvno sliko in nato na merilu označite daljico med kljunoma kljunastega merila ter izračunajte njeno dolžino v mm. Preverite ali dolžina ustreza dolžini, ki je označena na kljunastem merilu.\n"
   ]
  },
  {
   "cell_type": "code",
   "execution_count": null,
   "metadata": {
    "deletable": false,
    "nbgrader": {
     "checksum": "1447d526cd12581c483f4c1d913ab200",
     "grade": true,
     "grade_id": "cell-361bbc4681ce987c",
     "locked": false,
     "points": 3,
     "schema_version": 1,
     "solution": true
    }
   },
   "outputs": [],
   "source": [
    "# Kalibrirajte sliko, jo prikazite in na njej oznacite tocki, \n",
    "# ki dolocata razdaljo med kljunoma\n",
    "# YOUR CODE HERE\n",
    "raise NotImplementedError()"
   ]
  },
  {
   "cell_type": "code",
   "execution_count": null,
   "metadata": {
    "deletable": false,
    "nbgrader": {
     "checksum": "b2a0c432b64e71f6b5da7be9aa213595",
     "grade": true,
     "grade_id": "cell-bfc13186d65b9c70",
     "locked": false,
     "points": 1,
     "schema_version": 1,
     "solution": true
    }
   },
   "outputs": [],
   "source": [
    "# Izracunajte in izpisite izmerejeno razdaljo med kljunoma\n",
    "# YOUR CODE HERE\n",
    "raise NotImplementedError()"
   ]
  },
  {
   "cell_type": "markdown",
   "metadata": {
    "deletable": false,
    "editable": false,
    "nbgrader": {
     "checksum": "20df5f82b466350cb826d48001139d48",
     "grade": false,
     "grade_id": "cell-9e7763f93ec22c97",
     "locked": true,
     "schema_version": 1,
     "solution": false
    }
   },
   "source": [
    "3. Geometrijsko kalibracijo ponovite $3\\times$ tako, da najprej $3\\times$ ročno označite oglišča na sliki s kalibracijskim objektom `data/calibration-object.jpg`. Referenčno geometrijsko kalibracijo nato določite glede na povprečne koordinate teh oglišč. Na podlagi referenčne geometrijske kalibracije ocenite točnost geometrijske kalibracije z ročno označenimi oglišči (tiste geometrijske kalibracije, ki ste jo izračunali na vajah) v milimetrih. Od česa zavisi točnost geometrijske kalibracije?"
   ]
  },
  {
   "cell_type": "code",
   "execution_count": null,
   "metadata": {
    "deletable": false,
    "nbgrader": {
     "checksum": "e9720d04ee03ae5e25278f41e67e31c8",
     "grade": true,
     "grade_id": "cell-25a79bc0a0299980",
     "locked": false,
     "points": 1,
     "schema_version": 1,
     "solution": true
    }
   },
   "outputs": [],
   "source": [
    "# Oznacite oglisca na sliki (vsako oglisce 3 krat)\n",
    "# YOUR CODE HERE\n",
    "raise NotImplementedError()"
   ]
  },
  {
   "cell_type": "code",
   "execution_count": null,
   "metadata": {
    "deletable": false,
    "nbgrader": {
     "checksum": "9ea763446a827d7dd879e819cad5c58c",
     "grade": true,
     "grade_id": "cell-3d093b2e6680409d",
     "locked": false,
     "points": 1,
     "schema_version": 1,
     "solution": true
    }
   },
   "outputs": [],
   "source": [
    "# Izracunajte povprecje oglisc in iz dobljenih povprecnih oglisc\n",
    "# izracunajte geometrijsko kalibracijo\n",
    "\n",
    "# YOUR CODE HERE\n",
    "raise NotImplementedError()"
   ]
  },
  {
   "cell_type": "code",
   "execution_count": null,
   "metadata": {
    "deletable": false,
    "nbgrader": {
     "checksum": "45e155d54cdcc49279fcbaf203bd76e1",
     "grade": true,
     "grade_id": "cell-9418c0e4370822be",
     "locked": false,
     "points": 1,
     "schema_version": 1,
     "solution": true
    }
   },
   "outputs": [],
   "source": [
    "# Z dobljeno referencno kalibracijo ocenite tocnost \n",
    "# geometrijske kalibracije iz vaj v milimetrih\n",
    "\n",
    "# YOUR CODE HERE\n",
    "raise NotImplementedError()"
   ]
  },
  {
   "cell_type": "markdown",
   "metadata": {
    "deletable": false,
    "editable": false,
    "nbgrader": {
     "checksum": "bf8a3f48e962e72f6d74f380e1032250",
     "grade": false,
     "grade_id": "cell-f0485e4a331e7cc1",
     "locked": true,
     "schema_version": 1,
     "solution": false
    }
   },
   "source": [
    "Od česa zavisi točnost kalibracije?"
   ]
  },
  {
   "cell_type": "markdown",
   "metadata": {
    "deletable": false,
    "nbgrader": {
     "checksum": "36067697f15407336fb13b6f068d67e8",
     "grade": true,
     "grade_id": "cell-da297bf765b83832",
     "locked": false,
     "points": 1,
     "schema_version": 1,
     "solution": true
    }
   },
   "source": [
    "YOUR ANSWER HERE"
   ]
  },
  {
   "cell_type": "markdown",
   "metadata": {
    "deletable": false,
    "editable": false,
    "nbgrader": {
     "checksum": "07872be317b8b372fdff52da049e7695",
     "grade": false,
     "grade_id": "cell-589ff470fbaf1707",
     "locked": true,
     "schema_version": 1,
     "solution": false
    }
   },
   "source": [
    "4. Razvijte avtomatski postopek za geometrijsko kalibracijo slikovnega sistema. S pomočjo Harrisovega detektorja oglišč iz knjižnice OpenCV (Vaja 4) poiščite oglišča na sliki kalibra `data/calibration-object.jpg`. Nato pa s funkcijo `cv2.cornerSubPix()` še dodatno izpopolnite položaj oglišč. Ustvarite idealno mrežo referenčnih oglišč in s postopkom ICP (Vaja 5) ter afino preslikavo določite korespondence z zaznanimi oglišči na sliki kalibra. Določite natančnost avtomatske v primerjavi z referenčno geometrijsko kalibracijo v mm. Poizkusite izboljšati natančnost kalibracije še tako, da avtomatsko glede na lastne pogoje zavržete korespondence, ki slabšajo kalibracijo."
   ]
  },
  {
   "cell_type": "code",
   "execution_count": null,
   "metadata": {
    "deletable": false,
    "nbgrader": {
     "checksum": "f7224a413de3b6df8808753f5b7f6005",
     "grade": true,
     "grade_id": "cell-3116441d635996eb",
     "locked": false,
     "points": 5,
     "schema_version": 1,
     "solution": true
    }
   },
   "outputs": [],
   "source": [
    "# YOUR CODE HERE\n",
    "raise NotImplementedError()"
   ]
  },
  {
   "cell_type": "markdown",
   "metadata": {
    "deletable": false,
    "editable": false,
    "nbgrader": {
     "checksum": "7b5d5df1d87bb43bafadc7364db363c3",
     "grade": false,
     "grade_id": "cell-912459835ce620dd",
     "locked": true,
     "schema_version": 1,
     "solution": false
    }
   },
   "source": [
    "![Primer kalibracije](images/RV_7_SLO_PrimerKalibracije.png)"
   ]
  }
 ],
 "metadata": {
  "kernelspec": {
   "display_name": "Python 3",
   "language": "python",
   "name": "python3"
  },
  "language_info": {
   "codemirror_mode": {
    "name": "ipython",
    "version": 3
   },
   "file_extension": ".py",
   "mimetype": "text/x-python",
   "name": "python",
   "nbconvert_exporter": "python",
   "pygments_lexer": "ipython3",
   "version": "3.6.8"
  }
 },
 "nbformat": 4,
 "nbformat_minor": 2
}
